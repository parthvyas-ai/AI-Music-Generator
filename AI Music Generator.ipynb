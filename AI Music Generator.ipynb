{
 "cells": [
  {
   "cell_type": "markdown",
   "id": "fee9789d-9a17-4ce7-8cca-bece3ce5bc91",
   "metadata": {},
   "source": [
    "# 🎵 AI Music Generator"
   ]
  },
  {
   "cell_type": "markdown",
   "id": "25a776fd-7912-44d3-87ed-5789594406bd",
   "metadata": {},
   "source": [
    "##  Imports"
   ]
  },
  {
   "cell_type": "code",
   "execution_count": 3,
   "id": "9220493d-58d8-42cb-a46f-5f4586278621",
   "metadata": {},
   "outputs": [],
   "source": [
    "from music21 import converter, instrument, note, chord, stream\n",
    "import glob\n",
    "import pickle\n",
    "import numpy as np\n",
    "from tensorflow.keras.utils import to_categorical\n",
    "from tensorflow.keras.models import Sequential, load_model\n",
    "from tensorflow.keras.layers import LSTM, Dropout, Dense\n",
    "from tensorflow.keras.callbacks import ModelCheckpoint\n",
    "import os"
   ]
  },
  {
   "cell_type": "markdown",
   "id": "9df9439b-75bd-469d-b59c-fdda8748e724",
   "metadata": {},
   "source": [
    "## 1: Parsing and Processing MIDI Files\n",
    "\n",
    "Extracting the note and chord data from MIDI files and convert them into string tokens."
   ]
  },
  {
   "cell_type": "code",
   "execution_count": 54,
   "id": "abe83bf5-dede-4ec0-a843-4b3afa639101",
   "metadata": {},
   "outputs": [
    {
     "name": "stdout",
     "output_type": "stream",
     "text": [
      "Parsing: midi_songs/BornToBeYoursft.Kygo(Pianoversion).mid\n",
      "Parsing: midi_songs/Romanticpiano.mid\n"
     ]
    }
   ],
   "source": [
    "notes = []\n",
    "for file in glob.glob(\"midi_songs/*.mid\"):\n",
    "    midi = converter.parse(file)\n",
    "    print(\"Parsing:\", file)\n",
    "\n",
    "    elements_to_parse = midi.flat.notes\n",
    "\n",
    "    for ele in elements_to_parse:\n",
    "        if isinstance(ele, note.Note):\n",
    "            notes.append(str(ele.pitch))\n",
    "        elif isinstance(ele, chord.Chord):\n",
    "            notes.append('+'.join(str(n) for n in ele.normalOrder))\n",
    "\n",
    "with open(\"notes\", 'wb') as f:\n",
    "    pickle.dump(notes, f)"
   ]
  },
  {
   "cell_type": "markdown",
   "id": "b463eca1-dfcc-4dd3-806b-d14651fd2358",
   "metadata": {},
   "source": [
    "## 2: Preparing Sequential Data for LSTM\n",
    "\n",
    "Converting the list of notes into input/output sequences that can be fed to the LSTM."
   ]
  },
  {
   "cell_type": "code",
   "execution_count": 57,
   "id": "2396738d-0396-4ebb-8c60-72986d6a21d5",
   "metadata": {},
   "outputs": [],
   "source": [
    "sequence_length = 100\n",
    "n_vocab = len(set(notes))\n",
    "pitchnames = sorted(set(notes))\n",
    "ele_to_int = dict((ele, num) for num, ele in enumerate(pitchnames))\n",
    "\n",
    "network_input = []\n",
    "network_output = []\n",
    "\n",
    "for i in range(len(notes) - sequence_length):\n",
    "    seq_in = notes[i:i+sequence_length]\n",
    "    seq_out = notes[i+sequence_length]\n",
    "    network_input.append([ele_to_int[ch] for ch in seq_in])\n",
    "    network_output.append(ele_to_int[seq_out])\n",
    "\n",
    "n_patterns = len(network_input)\n",
    "\n",
    "network_input = np.reshape(network_input, (n_patterns, sequence_length, 1))\n",
    "network_input = network_input / float(n_vocab)\n",
    "network_output = to_categorical(network_output)"
   ]
  },
  {
   "cell_type": "markdown",
   "id": "a63c0eb1-f523-45f7-8022-5deb2163537d",
   "metadata": {},
   "source": [
    "## 3: Building the Model\n",
    "\n",
    "Defining a stacked LSTM model with dropout layers for regularization."
   ]
  },
  {
   "cell_type": "code",
   "execution_count": 60,
   "id": "5396399a-0b8f-4643-bdbf-5769deba2a12",
   "metadata": {},
   "outputs": [
    {
     "data": {
      "text/html": [
       "<pre style=\"white-space:pre;overflow-x:auto;line-height:normal;font-family:Menlo,'DejaVu Sans Mono',consolas,'Courier New',monospace\"><span style=\"font-weight: bold\">Model: \"sequential_4\"</span>\n",
       "</pre>\n"
      ],
      "text/plain": [
       "\u001b[1mModel: \"sequential_4\"\u001b[0m\n"
      ]
     },
     "metadata": {},
     "output_type": "display_data"
    },
    {
     "data": {
      "text/html": [
       "<pre style=\"white-space:pre;overflow-x:auto;line-height:normal;font-family:Menlo,'DejaVu Sans Mono',consolas,'Courier New',monospace\">┏━━━━━━━━━━━━━━━━━━━━━━━━━━━━━━━━━┳━━━━━━━━━━━━━━━━━━━━━━━━┳━━━━━━━━━━━━━━━┓\n",
       "┃<span style=\"font-weight: bold\"> Layer (type)                    </span>┃<span style=\"font-weight: bold\"> Output Shape           </span>┃<span style=\"font-weight: bold\">       Param # </span>┃\n",
       "┡━━━━━━━━━━━━━━━━━━━━━━━━━━━━━━━━━╇━━━━━━━━━━━━━━━━━━━━━━━━╇━━━━━━━━━━━━━━━┩\n",
       "│ lstm_6 (<span style=\"color: #0087ff; text-decoration-color: #0087ff\">LSTM</span>)                   │ (<span style=\"color: #00d7ff; text-decoration-color: #00d7ff\">None</span>, <span style=\"color: #00af00; text-decoration-color: #00af00\">100</span>, <span style=\"color: #00af00; text-decoration-color: #00af00\">512</span>)       │     <span style=\"color: #00af00; text-decoration-color: #00af00\">1,052,672</span> │\n",
       "├─────────────────────────────────┼────────────────────────┼───────────────┤\n",
       "│ dropout_6 (<span style=\"color: #0087ff; text-decoration-color: #0087ff\">Dropout</span>)             │ (<span style=\"color: #00d7ff; text-decoration-color: #00d7ff\">None</span>, <span style=\"color: #00af00; text-decoration-color: #00af00\">100</span>, <span style=\"color: #00af00; text-decoration-color: #00af00\">512</span>)       │             <span style=\"color: #00af00; text-decoration-color: #00af00\">0</span> │\n",
       "├─────────────────────────────────┼────────────────────────┼───────────────┤\n",
       "│ lstm_7 (<span style=\"color: #0087ff; text-decoration-color: #0087ff\">LSTM</span>)                   │ (<span style=\"color: #00d7ff; text-decoration-color: #00d7ff\">None</span>, <span style=\"color: #00af00; text-decoration-color: #00af00\">100</span>, <span style=\"color: #00af00; text-decoration-color: #00af00\">512</span>)       │     <span style=\"color: #00af00; text-decoration-color: #00af00\">2,099,200</span> │\n",
       "├─────────────────────────────────┼────────────────────────┼───────────────┤\n",
       "│ dropout_7 (<span style=\"color: #0087ff; text-decoration-color: #0087ff\">Dropout</span>)             │ (<span style=\"color: #00d7ff; text-decoration-color: #00d7ff\">None</span>, <span style=\"color: #00af00; text-decoration-color: #00af00\">100</span>, <span style=\"color: #00af00; text-decoration-color: #00af00\">512</span>)       │             <span style=\"color: #00af00; text-decoration-color: #00af00\">0</span> │\n",
       "├─────────────────────────────────┼────────────────────────┼───────────────┤\n",
       "│ lstm_8 (<span style=\"color: #0087ff; text-decoration-color: #0087ff\">LSTM</span>)                   │ (<span style=\"color: #00d7ff; text-decoration-color: #00d7ff\">None</span>, <span style=\"color: #00af00; text-decoration-color: #00af00\">512</span>)            │     <span style=\"color: #00af00; text-decoration-color: #00af00\">2,099,200</span> │\n",
       "├─────────────────────────────────┼────────────────────────┼───────────────┤\n",
       "│ dense_4 (<span style=\"color: #0087ff; text-decoration-color: #0087ff\">Dense</span>)                 │ (<span style=\"color: #00d7ff; text-decoration-color: #00d7ff\">None</span>, <span style=\"color: #00af00; text-decoration-color: #00af00\">256</span>)            │       <span style=\"color: #00af00; text-decoration-color: #00af00\">131,328</span> │\n",
       "├─────────────────────────────────┼────────────────────────┼───────────────┤\n",
       "│ dropout_8 (<span style=\"color: #0087ff; text-decoration-color: #0087ff\">Dropout</span>)             │ (<span style=\"color: #00d7ff; text-decoration-color: #00d7ff\">None</span>, <span style=\"color: #00af00; text-decoration-color: #00af00\">256</span>)            │             <span style=\"color: #00af00; text-decoration-color: #00af00\">0</span> │\n",
       "├─────────────────────────────────┼────────────────────────┼───────────────┤\n",
       "│ dense_5 (<span style=\"color: #0087ff; text-decoration-color: #0087ff\">Dense</span>)                 │ (<span style=\"color: #00d7ff; text-decoration-color: #00d7ff\">None</span>, <span style=\"color: #00af00; text-decoration-color: #00af00\">63</span>)             │        <span style=\"color: #00af00; text-decoration-color: #00af00\">16,191</span> │\n",
       "└─────────────────────────────────┴────────────────────────┴───────────────┘\n",
       "</pre>\n"
      ],
      "text/plain": [
       "┏━━━━━━━━━━━━━━━━━━━━━━━━━━━━━━━━━┳━━━━━━━━━━━━━━━━━━━━━━━━┳━━━━━━━━━━━━━━━┓\n",
       "┃\u001b[1m \u001b[0m\u001b[1mLayer (type)                   \u001b[0m\u001b[1m \u001b[0m┃\u001b[1m \u001b[0m\u001b[1mOutput Shape          \u001b[0m\u001b[1m \u001b[0m┃\u001b[1m \u001b[0m\u001b[1m      Param #\u001b[0m\u001b[1m \u001b[0m┃\n",
       "┡━━━━━━━━━━━━━━━━━━━━━━━━━━━━━━━━━╇━━━━━━━━━━━━━━━━━━━━━━━━╇━━━━━━━━━━━━━━━┩\n",
       "│ lstm_6 (\u001b[38;5;33mLSTM\u001b[0m)                   │ (\u001b[38;5;45mNone\u001b[0m, \u001b[38;5;34m100\u001b[0m, \u001b[38;5;34m512\u001b[0m)       │     \u001b[38;5;34m1,052,672\u001b[0m │\n",
       "├─────────────────────────────────┼────────────────────────┼───────────────┤\n",
       "│ dropout_6 (\u001b[38;5;33mDropout\u001b[0m)             │ (\u001b[38;5;45mNone\u001b[0m, \u001b[38;5;34m100\u001b[0m, \u001b[38;5;34m512\u001b[0m)       │             \u001b[38;5;34m0\u001b[0m │\n",
       "├─────────────────────────────────┼────────────────────────┼───────────────┤\n",
       "│ lstm_7 (\u001b[38;5;33mLSTM\u001b[0m)                   │ (\u001b[38;5;45mNone\u001b[0m, \u001b[38;5;34m100\u001b[0m, \u001b[38;5;34m512\u001b[0m)       │     \u001b[38;5;34m2,099,200\u001b[0m │\n",
       "├─────────────────────────────────┼────────────────────────┼───────────────┤\n",
       "│ dropout_7 (\u001b[38;5;33mDropout\u001b[0m)             │ (\u001b[38;5;45mNone\u001b[0m, \u001b[38;5;34m100\u001b[0m, \u001b[38;5;34m512\u001b[0m)       │             \u001b[38;5;34m0\u001b[0m │\n",
       "├─────────────────────────────────┼────────────────────────┼───────────────┤\n",
       "│ lstm_8 (\u001b[38;5;33mLSTM\u001b[0m)                   │ (\u001b[38;5;45mNone\u001b[0m, \u001b[38;5;34m512\u001b[0m)            │     \u001b[38;5;34m2,099,200\u001b[0m │\n",
       "├─────────────────────────────────┼────────────────────────┼───────────────┤\n",
       "│ dense_4 (\u001b[38;5;33mDense\u001b[0m)                 │ (\u001b[38;5;45mNone\u001b[0m, \u001b[38;5;34m256\u001b[0m)            │       \u001b[38;5;34m131,328\u001b[0m │\n",
       "├─────────────────────────────────┼────────────────────────┼───────────────┤\n",
       "│ dropout_8 (\u001b[38;5;33mDropout\u001b[0m)             │ (\u001b[38;5;45mNone\u001b[0m, \u001b[38;5;34m256\u001b[0m)            │             \u001b[38;5;34m0\u001b[0m │\n",
       "├─────────────────────────────────┼────────────────────────┼───────────────┤\n",
       "│ dense_5 (\u001b[38;5;33mDense\u001b[0m)                 │ (\u001b[38;5;45mNone\u001b[0m, \u001b[38;5;34m63\u001b[0m)             │        \u001b[38;5;34m16,191\u001b[0m │\n",
       "└─────────────────────────────────┴────────────────────────┴───────────────┘\n"
      ]
     },
     "metadata": {},
     "output_type": "display_data"
    },
    {
     "data": {
      "text/html": [
       "<pre style=\"white-space:pre;overflow-x:auto;line-height:normal;font-family:Menlo,'DejaVu Sans Mono',consolas,'Courier New',monospace\"><span style=\"font-weight: bold\"> Total params: </span><span style=\"color: #00af00; text-decoration-color: #00af00\">5,398,591</span> (20.59 MB)\n",
       "</pre>\n"
      ],
      "text/plain": [
       "\u001b[1m Total params: \u001b[0m\u001b[38;5;34m5,398,591\u001b[0m (20.59 MB)\n"
      ]
     },
     "metadata": {},
     "output_type": "display_data"
    },
    {
     "data": {
      "text/html": [
       "<pre style=\"white-space:pre;overflow-x:auto;line-height:normal;font-family:Menlo,'DejaVu Sans Mono',consolas,'Courier New',monospace\"><span style=\"font-weight: bold\"> Trainable params: </span><span style=\"color: #00af00; text-decoration-color: #00af00\">5,398,591</span> (20.59 MB)\n",
       "</pre>\n"
      ],
      "text/plain": [
       "\u001b[1m Trainable params: \u001b[0m\u001b[38;5;34m5,398,591\u001b[0m (20.59 MB)\n"
      ]
     },
     "metadata": {},
     "output_type": "display_data"
    },
    {
     "data": {
      "text/html": [
       "<pre style=\"white-space:pre;overflow-x:auto;line-height:normal;font-family:Menlo,'DejaVu Sans Mono',consolas,'Courier New',monospace\"><span style=\"font-weight: bold\"> Non-trainable params: </span><span style=\"color: #00af00; text-decoration-color: #00af00\">0</span> (0.00 B)\n",
       "</pre>\n"
      ],
      "text/plain": [
       "\u001b[1m Non-trainable params: \u001b[0m\u001b[38;5;34m0\u001b[0m (0.00 B)\n"
      ]
     },
     "metadata": {},
     "output_type": "display_data"
    }
   ],
   "source": [
    "model = Sequential()\n",
    "model.add(LSTM(512, input_shape=(network_input.shape[1], network_input.shape[2]), return_sequences=True))\n",
    "model.add(Dropout(0.3))\n",
    "model.add(LSTM(512, return_sequences=True))\n",
    "model.add(Dropout(0.3))\n",
    "model.add(LSTM(512))\n",
    "model.add(Dense(256))\n",
    "model.add(Dropout(0.3))\n",
    "model.add(Dense(n_vocab, activation='softmax'))\n",
    "\n",
    "model.compile(loss='categorical_crossentropy', optimizer='adam')\n",
    "model.summary()"
   ]
  },
  {
   "cell_type": "markdown",
   "id": "c0f64420-e015-49ac-bda6-b8ffd312f89d",
   "metadata": {},
   "source": [
    "## 4: Training the Model\n",
    "\n",
    "Training the model using the training data and save the best weights."
   ]
  },
  {
   "cell_type": "code",
   "execution_count": null,
   "id": "6d6f1711-fedc-4baf-9b3b-347b6f232561",
   "metadata": {},
   "outputs": [],
   "source": [
    "checkpoint = ModelCheckpoint(\"model.keras\", monitor='loss', verbose=1, save_best_only=True, mode='min')\n",
    "model.fit(network_input, network_output, epochs=100, batch_size=64, callbacks=[checkpoint])"
   ]
  },
  {
   "cell_type": "markdown",
   "id": "d3b4a696-44e4-4036-9d55-8ce764956026",
   "metadata": {},
   "source": [
    "## 5: Generating New Music\n",
    "\n",
    "Loading the trained model and generating a sequence of new notes."
   ]
  },
  {
   "cell_type": "code",
   "execution_count": null,
   "id": "9cd7d45e-76b3-4217-a243-6bcb70b72eaa",
   "metadata": {},
   "outputs": [],
   "source": [
    "with open(\"notes\", 'rb') as f:\n",
    "    notes = pickle.load(f)\n",
    "\n",
    "pitchnames = sorted(set(notes))\n",
    "ele_to_int = dict((ele, num) for num, ele in enumerate(pitchnames))\n",
    "int_to_ele = dict((num, ele) for num, ele in enumerate(pitchnames))\n",
    "n_vocab = len(pitchnames)\n",
    "\n",
    "sequence_length = 100\n",
    "network_input = []\n",
    "\n",
    "for i in range(len(notes) - sequence_length):\n",
    "    seq_in = notes[i:i+sequence_length]\n",
    "    network_input.append([ele_to_int[ch] for ch in seq_in])\n",
    "\n",
    "start = np.random.randint(0, len(network_input)-1)\n",
    "pattern = network_input[start]\n",
    "\n",
    "model = load_model(\"model.keras\")\n",
    "\n",
    "prediction_output = []\n",
    "\n",
    "for note_index in range(200):\n",
    "    prediction_input = np.reshape(pattern, (1, len(pattern), 1))\n",
    "    prediction_input = prediction_input / float(n_vocab)\n",
    "\n",
    "    prediction = model.predict(prediction_input, verbose=0)\n",
    "    index = np.argmax(prediction)\n",
    "    result = int_to_ele[index]\n",
    "    prediction_output.append(result)\n",
    "\n",
    "    pattern.append(index)\n",
    "    pattern = pattern[1:]"
   ]
  },
  {
   "cell_type": "markdown",
   "id": "19a9f6cd-caad-42de-b32c-ebc441c061d6",
   "metadata": {},
   "source": [
    "## 6: Converting Output to MIDIoffset = 0\n",
    "\n",
    "Converting the generated note sequence into a .mid file for playback."
   ]
  },
  {
   "cell_type": "code",
   "execution_count": null,
   "id": "e7ee07f9-5862-4aa2-b8de-911f1f2f3029",
   "metadata": {},
   "outputs": [],
   "source": [
    "offset = 0\n",
    "output_notes = []\n",
    "\n",
    "for pattern in prediction_output:\n",
    "    if ('+' in pattern) or pattern.isdigit():\n",
    "        notes_in_chord = pattern.split('+')\n",
    "        temp_notes = []\n",
    "        for current_note in notes_in_chord:\n",
    "            new_note = note.Note(int(current_note))\n",
    "            new_note.storedInstrument = instrument.Piano()\n",
    "            temp_notes.append(new_note)\n",
    "        new_chord = chord.Chord(temp_notes)\n",
    "        new_chord.offset = offset\n",
    "        output_notes.append(new_chord)\n",
    "    else:\n",
    "        new_note = note.Note(pattern)\n",
    "        new_note.offset = offset\n",
    "        new_note.storedInstrument = instrument.Piano()\n",
    "        output_notes.append(new_note)\n",
    "    offset += 0.5\n",
    "\n",
    "midi_stream = stream.Stream(output_notes)\n",
    "midi_stream.write('midi', fp='test_output.mid')"
   ]
  },
  {
   "cell_type": "code",
   "execution_count": null,
   "id": "adc4a505-1d31-41bb-b547-83c2dd64d34e",
   "metadata": {},
   "outputs": [],
   "source": [
    "#Play the music....\n",
    "midi_stream.show('midi')"
   ]
  }
 ],
 "metadata": {
  "kernelspec": {
   "display_name": "Python 3 (ipykernel)",
   "language": "python",
   "name": "python3"
  },
  "language_info": {
   "codemirror_mode": {
    "name": "ipython",
    "version": 3
   },
   "file_extension": ".py",
   "mimetype": "text/x-python",
   "name": "python",
   "nbconvert_exporter": "python",
   "pygments_lexer": "ipython3",
   "version": "3.12.2"
  }
 },
 "nbformat": 4,
 "nbformat_minor": 5
}
